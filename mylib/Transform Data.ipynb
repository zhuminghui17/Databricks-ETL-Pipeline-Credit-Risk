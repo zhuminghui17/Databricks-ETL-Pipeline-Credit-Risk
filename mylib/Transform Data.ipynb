{
 "cells": [
  {
   "cell_type": "code",
   "execution_count": 0,
   "metadata": {
    "application/vnd.databricks.v1+cell": {
     "cellMetadata": {
      "byteLimit": 2048000,
      "rowLimit": 10000
     },
     "inputWidgets": {},
     "nuid": "ac9da7c1-658d-4e17-89e7-340ab93512a1",
     "showTitle": false,
     "title": ""
    }
   },
   "outputs": [
    {
     "output_type": "stream",
     "name": "stdout",
     "output_type": "stream",
     "text": [
      "+------+-----+-----+-------+------------+--------------------+---------+-------------+------------+--------+-----------+--------------+------------+-------+------+--------+\n|Gender|  Age| Debt|Married|BankCustomer|            Industry|Ethnicity|YearsEmployed|PriorDefault|Employed|CreditScore|DriversLicense|     Citizen|ZipCode|Income|Approved|\n+------+-----+-----+-------+------------+--------------------+---------+-------------+------------+--------+-----------+--------------+------------+-------+------+--------+\n|     1|30.83|  0.0|      1|           1|         Industrials|    White|         1.25|           1|       1|          1|             0|     ByBirth|    202|     0|       1|\n|     1|27.83| 1.54|      1|           1|         Industrials|    White|         3.75|           1|       1|          5|             1|     ByBirth|    100|     3|       1|\n|     1|20.17|5.625|      1|           1|         Industrials|    White|         1.71|           1|       0|          0|             0|ByOtherMeans|    120|     0|       1|\n|     1|32.08|  4.0|      1|           1|CommunicationServ...|    White|          2.5|           1|       0|          0|             1|     ByBirth|    360|     0|       1|\n|     1|33.17| 1.04|      1|           1|           Transport|    Black|          6.5|           1|       0|          0|             1|     ByBirth|    164| 31285|       1|\n|     1|54.42|  0.5|      0|           0|          Financials|    Black|         3.96|           1|       0|          0|             0|     ByBirth|    180|   314|       1|\n|     1| 42.5|4.915|      0|           0|         Industrials|    White|        3.165|           1|       0|          0|             1|     ByBirth|     52|  1442|       1|\n|     1|22.08| 0.83|      1|           1|              Energy|    Black|        2.165|           0|       0|          0|             1|     ByBirth|    128|     0|       1|\n|     1|29.92|1.835|      1|           1|              Energy|    Black|        4.335|           1|       0|          0|             0|     ByBirth|    260|   200|       1|\n|     1|48.08| 6.04|      1|           1|          Financials|    White|         0.04|           0|       0|          0|             0|     ByBirth|      0|  2690|       1|\n|     1|36.67|4.415|      0|           0|          Financials|    White|         0.25|           1|       1|         10|             1|     ByBirth|    320|     0|       1|\n|     1|28.25|0.875|      1|           1|CommunicationServ...|    White|         0.96|           1|       1|          3|             1|     ByBirth|    396|     0|       1|\n|     1|21.83| 0.25|      1|           1|         Real Estate|    Black|        0.665|           1|       0|          0|             1|     ByBirth|      0|     0|       1|\n|     1| 25.0|11.25|      1|           1|              Energy|    White|          2.5|           1|       1|         17|             0|     ByBirth|    200|  1208|       1|\n|     1|23.25|  1.0|      1|           1|              Energy|    White|        0.835|           1|       0|          0|             0|ByOtherMeans|    300|     0|       1|\n|     1|56.58| 18.5|      1|           1|         Real Estate|    Asian|         15.0|           1|       1|         17|             1|     ByBirth|      0|     0|       1|\n|     1|57.42|  8.5|      1|           1|           Education|    Black|          7.0|           1|       1|          3|             0|     ByBirth|      0|     0|       1|\n|     1|42.08| 1.04|      1|           1|         Industrials|    White|          5.0|           1|       1|          6|             1|     ByBirth|    500| 10000|       1|\n|     1|29.25|14.79|      1|           1|     ConsumerStaples|    White|         5.04|           1|       1|          5|             1|     ByBirth|    168|     0|       1|\n|     1| 42.0| 9.79|      1|           1|           Utilities|    Black|         7.96|           1|       1|          8|             0|     ByBirth|      0|     0|       1|\n+------+-----+-----+-------+------------+--------------------+---------+-------------+------------+--------+-----------+--------------+------------+-------+------+--------+\nonly showing top 20 rows\n\n"
     ]
    }
   ],
   "source": [
    "# Transform Data\n",
    "\n",
    "from pyspark.sql import SparkSession\n",
    "from pyspark.sql.functions import when, col\n",
    "from pyspark.ml.feature import OneHotEncoder, StringIndexer, VectorAssembler, StandardScaler\n",
    "\n",
    "# Create a Spark session\n",
    "spark = SparkSession.builder.appName(\"DataTransformation\").getOrCreate()\n",
    "\n",
    "df_filtered = spark.sql(\"\"\"\n",
    "                        SELECT *\n",
    "                        FROM credit_card_approvals\n",
    "                        WHERE Gender == 1\n",
    "                        \"\"\")\n",
    "\n",
    "df_filtered.show()"
   ]
  },
  {
   "cell_type": "markdown",
   "metadata": {
    "application/vnd.databricks.v1+cell": {
     "cellMetadata": {
      "byteLimit": 2048000,
      "rowLimit": 10000
     },
     "inputWidgets": {},
     "nuid": "550fe4e2-f1c7-4234-9b8c-489aa4ee1b0e",
     "showTitle": false,
     "title": ""
    }
   },
   "source": [
    "Load Data"
   ]
  },
  {
   "cell_type": "code",
   "execution_count": 0,
   "metadata": {
    "application/vnd.databricks.v1+cell": {
     "cellMetadata": {
      "byteLimit": 2048000,
      "rowLimit": 10000
     },
     "inputWidgets": {},
     "nuid": "36bb6de4-6562-4629-b2b0-beee4fa19a81",
     "showTitle": false,
     "title": ""
    }
   },
   "outputs": [],
   "source": [
    "transformed_table_name = \"male_only\"\n",
    "df_filtered.write.format(\"delta\").mode(\"overwrite\").saveAsTable(transformed_table_name)"
   ]
  }
 ],
 "metadata": {
  "application/vnd.databricks.v1+notebook": {
   "dashboards": [],
   "language": "python",
   "notebookMetadata": {
    "pythonIndentUnit": 4
   },
   "notebookName": "Transform Data",
   "widgets": {}
  }
 },
 "nbformat": 4,
 "nbformat_minor": 0
}
